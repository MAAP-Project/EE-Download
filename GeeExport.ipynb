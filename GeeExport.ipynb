{
 "cells": [
  {
   "cell_type": "code",
   "execution_count": 4,
   "metadata": {},
   "outputs": [],
   "source": [
    "import ee\n",
    "import numpy as np\n",
    "import geopandas as gpd\n",
    "from ee_download import download_image_by_asset_path, Curler"
   ]
  },
  {
   "cell_type": "code",
   "execution_count": 5,
   "metadata": {},
   "outputs": [
    {
     "data": {
      "text/html": [
       "<p>To authorize access needed by Earth Engine, open the following\n",
       "        URL in a web browser and follow the instructions:</p>\n",
       "        <p><a href=https://accounts.google.com/o/oauth2/auth?client_id=517222506229-vsmmajv00ul0bs7p89v5m89qs8eb9359.apps.googleusercontent.com&scope=https%3A%2F%2Fwww.googleapis.com%2Fauth%2Fearthengine+https%3A%2F%2Fwww.googleapis.com%2Fauth%2Fdevstorage.full_control&redirect_uri=urn%3Aietf%3Awg%3Aoauth%3A2.0%3Aoob&response_type=code&code_challenge=0mfoBrMCIBdSkOTFrKWT0UI_Gvz9Yh--i-MfCkwrVU0&code_challenge_method=S256>https://accounts.google.com/o/oauth2/auth?client_id=517222506229-vsmmajv00ul0bs7p89v5m89qs8eb9359.apps.googleusercontent.com&scope=https%3A%2F%2Fwww.googleapis.com%2Fauth%2Fearthengine+https%3A%2F%2Fwww.googleapis.com%2Fauth%2Fdevstorage.full_control&redirect_uri=urn%3Aietf%3Awg%3Aoauth%3A2.0%3Aoob&response_type=code&code_challenge=0mfoBrMCIBdSkOTFrKWT0UI_Gvz9Yh--i-MfCkwrVU0&code_challenge_method=S256</a></p>\n",
       "        <p>The authorization workflow will generate a code, which you\n",
       "        should paste in the box below</p>\n",
       "        "
      ],
      "text/plain": [
       "<IPython.core.display.HTML object>"
      ]
     },
     "metadata": {},
     "output_type": "display_data"
    },
    {
     "name": "stdin",
     "output_type": "stream",
     "text": [
      "Enter verification code:  4/1AY0e-g7lFofh-mCdiNgLjC--GPom_FP_MpNecxQp8cylWgb5ZVAQUJt5AsM\n"
     ]
    },
    {
     "name": "stdout",
     "output_type": "stream",
     "text": [
      "\n",
      "Successfully saved authorization token.\n"
     ]
    }
   ],
   "source": [
    "ee.Authenticate()"
   ]
  },
  {
   "cell_type": "code",
   "execution_count": 7,
   "metadata": {},
   "outputs": [],
   "source": [
    "bbox = [-180, 45, 0, 75]\n",
    "#2nd 1/2 world\n",
    "bbox2 = [0,45,180,75]\n",
    "\n",
    "# Failed attempt at using floats\n",
    "#box_longs = np.arange(bbox[0],bbox[2], 1, dtype=np.int8).tolist()\n",
    "#box_lats = np.arange(bbox[1],bbox[3], 1, dtype=np.int8).tolist()\n",
    "box_longs = range(bbox[0], bbox[2], 1)\n",
    "box_lats = range(bbox[1],bbox[3], 1)"
   ]
  },
  {
   "cell_type": "code",
   "execution_count": 18,
   "metadata": {},
   "outputs": [
    {
     "name": "stdout",
     "output_type": "stream",
     "text": [
      "5400\n"
     ]
    }
   ],
   "source": [
    "all_boxes = []\n",
    "for i in box_longs:\n",
    "    for j in box_lats: \n",
    "        all_boxes.append([i,j,i+1,j+1])\n",
    "print(len(all_boxes))\n",
    "#all_boxes = all_boxes[2832:]\n",
    "#print(len(all_boxes))"
   ]
  },
  {
   "cell_type": "code",
   "execution_count": 19,
   "metadata": {},
   "outputs": [
    {
     "name": "stdout",
     "output_type": "stream",
     "text": [
      "10800\n"
     ]
    }
   ],
   "source": [
    "bbox2 = [0,45,180,75]\n",
    "box_longs = range(bbox2[0], bbox2[2], 1)\n",
    "box_lats = range(bbox2[1],bbox2[3], 1)\n",
    "for i in box_longs:\n",
    "    for j in box_lats: \n",
    "        all_boxes.append([i,j,i+1,j+1])\n",
    "print(len(all_boxes))"
   ]
  },
  {
   "cell_type": "code",
   "execution_count": null,
   "metadata": {},
   "outputs": [],
   "source": [
    "# This will download all the tiles we need each to a zip, \n",
    "# the files inside are all named the same so next step is to overwrite that with the zip name\n",
    "for i in range(2832,len(all_boxes)):\n",
    "    gee_geom = ee.Geometry.Rectangle(all_boxes[i])\n",
    "    #print(gee_geom)\n",
    "    \n",
    "    downloaded_images = download_image_by_asset_path(\n",
    "        asset_path = \"users/alex-devseed/TTE_DATA_v201902v2-all\",\n",
    "        output_folder = \"/projects/tmp/gee\",\n",
    "        region = gee_geom,\n",
    "        idx = str(i)\n",
    "    )\n"
   ]
  },
  {
   "cell_type": "markdown",
   "metadata": {},
   "source": [
    "## Debugging"
   ]
  },
  {
   "cell_type": "code",
   "execution_count": 3,
   "metadata": {},
   "outputs": [
    {
     "data": {
      "text/plain": [
       "(1728, 6)"
      ]
     },
     "execution_count": 3,
     "metadata": {},
     "output_type": "execute_result"
    }
   ],
   "source": [
    "graticule = gpd.read_file('grat2-5.geojson')\n",
    "graticule.shape"
   ]
  },
  {
   "cell_type": "code",
   "execution_count": 5,
   "metadata": {},
   "outputs": [
    {
     "data": {
      "text/plain": [
       "[[-2, 55, -1, 56],\n",
       " [-2, 56, -1, 57],\n",
       " [-2, 57, -1, 58],\n",
       " [-2, 58, -1, 59],\n",
       " [-2, 59, -1, 60],\n",
       " [-2, 60, -1, 61],\n",
       " [-2, 61, -1, 62],\n",
       " [-2, 62, -1, 63],\n",
       " [-2, 63, -1, 64],\n",
       " [-2, 64, -1, 65],\n",
       " [-2, 65, -1, 66],\n",
       " [-2, 66, -1, 67],\n",
       " [-2, 67, -1, 68],\n",
       " [-2, 68, -1, 69],\n",
       " [-2, 69, -1, 70],\n",
       " [-2, 70, -1, 71],\n",
       " [-2, 71, -1, 72],\n",
       " [-2, 72, -1, 73],\n",
       " [-2, 73, -1, 74],\n",
       " [-2, 74, -1, 75],\n",
       " [-1, 45, 0, 46],\n",
       " [-1, 46, 0, 47],\n",
       " [-1, 47, 0, 48],\n",
       " [-1, 48, 0, 49],\n",
       " [-1, 49, 0, 50],\n",
       " [-1, 50, 0, 51],\n",
       " [-1, 51, 0, 52],\n",
       " [-1, 52, 0, 53],\n",
       " [-1, 53, 0, 54],\n",
       " [-1, 54, 0, 55],\n",
       " [-1, 55, 0, 56],\n",
       " [-1, 56, 0, 57],\n",
       " [-1, 57, 0, 58],\n",
       " [-1, 58, 0, 59],\n",
       " [-1, 59, 0, 60],\n",
       " [-1, 60, 0, 61],\n",
       " [-1, 61, 0, 62],\n",
       " [-1, 62, 0, 63],\n",
       " [-1, 63, 0, 64],\n",
       " [-1, 64, 0, 65],\n",
       " [-1, 65, 0, 66],\n",
       " [-1, 66, 0, 67],\n",
       " [-1, 67, 0, 68],\n",
       " [-1, 68, 0, 69],\n",
       " [-1, 69, 0, 70],\n",
       " [-1, 70, 0, 71],\n",
       " [-1, 71, 0, 72],\n",
       " [-1, 72, 0, 73],\n",
       " [-1, 73, 0, 74],\n",
       " [-1, 74, 0, 75]]"
      ]
     },
     "execution_count": 5,
     "metadata": {},
     "output_type": "execute_result"
    }
   ],
   "source": [
    "all_boxes[5350:]"
   ]
  },
  {
   "cell_type": "code",
   "execution_count": 15,
   "metadata": {},
   "outputs": [],
   "source": [
    "gee_geom = ee.Geometry.Rectangle([-55,40,-54,41], 'EPSG:4326', False)"
   ]
  },
  {
   "cell_type": "code",
   "execution_count": 16,
   "metadata": {},
   "outputs": [
    {
     "data": {
      "text/plain": [
       "ee.Geometry({\n",
       "  \"functionInvocationValue\": {\n",
       "    \"functionName\": \"GeometryConstructors.Rectangle\",\n",
       "    \"arguments\": {\n",
       "      \"coordinates\": {\n",
       "        \"constantValue\": [\n",
       "          -55,\n",
       "          40,\n",
       "          -54,\n",
       "          41\n",
       "        ]\n",
       "      },\n",
       "      \"crs\": {\n",
       "        \"functionInvocationValue\": {\n",
       "          \"functionName\": \"Projection\",\n",
       "          \"arguments\": {\n",
       "            \"crs\": {\n",
       "              \"constantValue\": \"EPSG:4326\"\n",
       "            }\n",
       "          }\n",
       "        }\n",
       "      },\n",
       "      \"geodesic\": {\n",
       "        \"constantValue\": false\n",
       "      }\n",
       "    }\n",
       "  }\n",
       "})"
      ]
     },
     "execution_count": 16,
     "metadata": {},
     "output_type": "execute_result"
    }
   ],
   "source": [
    "gee_geom"
   ]
  },
  {
   "cell_type": "code",
   "execution_count": 4,
   "metadata": {},
   "outputs": [
    {
     "name": "stdout",
     "output_type": "stream",
     "text": [
      "ee.Geometry({\n",
      "  \"functionInvocationValue\": {\n",
      "    \"functionName\": \"GeometryConstructors.Polygon\",\n",
      "    \"arguments\": {\n",
      "      \"coordinates\": {\n",
      "        \"constantValue\": [\n",
      "          [\n",
      "            [\n",
      "              -164,\n",
      "              66\n",
      "            ],\n",
      "            [\n",
      "              -164,\n",
      "              65\n",
      "            ],\n",
      "            [\n",
      "              -163,\n",
      "              65\n",
      "            ],\n",
      "            [\n",
      "              -163,\n",
      "              66\n",
      "            ]\n",
      "          ]\n",
      "        ]\n",
      "      },\n",
      "      \"evenOdd\": {\n",
      "        \"constantValue\": true\n",
      "      }\n",
      "    }\n",
      "  }\n",
      "})\n"
     ]
    }
   ],
   "source": [
    "i = 500\n",
    "gee_geom = ee.Geometry.Rectangle(all_boxes[i])\n",
    "print(gee_geom)\n",
    "    \n",
    "downloaded_images = download_image_by_asset_path(\n",
    "        asset_path = \"users/alex-devseed/TTE_DATA_v201902v2-class\",\n",
    "        output_folder = \"/projects/tmp/gee\",\n",
    "        region = gee_geom,\n",
    "        idx = str(i)\n",
    ")"
   ]
  },
  {
   "cell_type": "code",
   "execution_count": 37,
   "metadata": {},
   "outputs": [],
   "source": [
    "image = ee.Image(\"users/alex-devseed/TTE_DATA_v201902v2-class\")\n",
    "path = image.getDownloadUrl({\n",
    "            #'scale': 30,\n",
    "            #'crs': 'EPSG:3310',\n",
    "            'region': gee_geom\n",
    "        })"
   ]
  },
  {
   "cell_type": "code",
   "execution_count": 39,
   "metadata": {},
   "outputs": [],
   "source": [
    "c = Curler()\n",
    "success = c.download(url=path, path=\"/projects/tmp/gee/test.zip\")"
   ]
  },
  {
   "cell_type": "code",
   "execution_count": 32,
   "metadata": {},
   "outputs": [],
   "source": [
    "from zipfile import is_zipfile, ZipFile\n",
    "download_path = '/projects/tmp/gee/TTE_DATA_v201902v2-class.zip'"
   ]
  },
  {
   "cell_type": "code",
   "execution_count": null,
   "metadata": {},
   "outputs": [],
   "source": [
    "\n",
    "with open(download_path, 'r') as zf:\n",
    "        z = ZipFile(zf)\n",
    "        downloaded_items = [os.path.join(output_folder,item) for item in z.namelist() if not item.endswith(\"tfw\") ]\n",
    "        z.extractall(path=output_folder)\n",
    "        z.close()\n",
    "        del z"
   ]
  },
  {
   "cell_type": "code",
   "execution_count": 33,
   "metadata": {},
   "outputs": [
    {
     "name": "stdout",
     "output_type": "stream",
     "text": [
      "File Name                                             Modified             Size\n",
      "TTE_DATA_v201902v2-class.tte_classification.tif 2021-06-11 10:08:42        89175\n"
     ]
    }
   ],
   "source": [
    "with ZipFile(download_path, 'r') as zip:\n",
    "    # printing all the contents of the zip file\n",
    "    zip.printdir()"
   ]
  },
  {
   "cell_type": "code",
   "execution_count": 41,
   "metadata": {},
   "outputs": [
    {
     "data": {
      "text/plain": [
       "[1, 2, 3, 4]"
      ]
     },
     "execution_count": 41,
     "metadata": {},
     "output_type": "execute_result"
    }
   ],
   "source": [
    "[1,2,3,4]"
   ]
  }
 ],
 "metadata": {
  "kernelspec": {
   "display_name": "Python [conda env:root] *",
   "language": "python",
   "name": "conda-root-py"
  },
  "language_info": {
   "codemirror_mode": {
    "name": "ipython",
    "version": 3
   },
   "file_extension": ".py",
   "mimetype": "text/x-python",
   "name": "python",
   "nbconvert_exporter": "python",
   "pygments_lexer": "ipython3",
   "version": "3.7.8"
  }
 },
 "nbformat": 4,
 "nbformat_minor": 4
}
